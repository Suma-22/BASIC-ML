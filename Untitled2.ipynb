{
  "nbformat": 4,
  "nbformat_minor": 0,
  "metadata": {
    "colab": {
      "name": "Untitled2.ipynb",
      "provenance": [],
      "authorship_tag": "ABX9TyOCO1u5noO01yAu1HBzrTMZ",
      "include_colab_link": true
    },
    "kernelspec": {
      "name": "python3",
      "display_name": "Python 3"
    },
    "language_info": {
      "name": "python"
    }
  },
  "cells": [
    {
      "cell_type": "markdown",
      "metadata": {
        "id": "view-in-github",
        "colab_type": "text"
      },
      "source": [
        "<a href=\"https://colab.research.google.com/github/Suma-22/BASIC-ML/blob/main/Untitled2.ipynb\" target=\"_parent\"><img src=\"https://colab.research.google.com/assets/colab-badge.svg\" alt=\"Open In Colab\"/></a>"
      ]
    },
    {
      "cell_type": "code",
      "metadata": {
        "id": "BgY_MRO8pXD2"
      },
      "source": [
        "simple programs"
      ],
      "execution_count": null,
      "outputs": []
    },
    {
      "cell_type": "code",
      "metadata": {
        "colab": {
          "base_uri": "https://localhost:8080/"
        },
        "id": "kJETDX5PpYfQ",
        "outputId": "a77200b5-6cd9-4722-9679-041e191dc1fe"
      },
      "source": [
        "print(\"hello\" )"
      ],
      "execution_count": null,
      "outputs": [
        {
          "output_type": "stream",
          "text": [
            "hello\n"
          ],
          "name": "stdout"
        }
      ]
    },
    {
      "cell_type": "code",
      "metadata": {
        "id": "8PrfTYi4zG9C"
      },
      "source": [
        ""
      ],
      "execution_count": null,
      "outputs": []
    },
    {
      "cell_type": "markdown",
      "metadata": {
        "id": "TJVi_AaTzN6Z"
      },
      "source": [
        ""
      ]
    },
    {
      "cell_type": "code",
      "metadata": {
        "colab": {
          "base_uri": "https://localhost:8080/"
        },
        "id": "JSjmBXpFzUY3",
        "outputId": "88748507-5492-46e5-f01a-4cba1d12306b"
      },
      "source": [
        "n = int(input(\"enter the number\"))\n",
        "if n%2==0:\n",
        "  print(n ,\" is even number\")\n",
        "else:\n",
        "  print(n ,\"is odd number\")\n",
        "\n"
      ],
      "execution_count": 7,
      "outputs": [
        {
          "output_type": "stream",
          "text": [
            "enter the number6\n",
            "6  is even number\n"
          ],
          "name": "stdout"
        }
      ]
    },
    {
      "cell_type": "code",
      "metadata": {
        "colab": {
          "base_uri": "https://localhost:8080/"
        },
        "id": "8E0AHk4V2VSS",
        "outputId": "1923d913-fd1f-494c-dd4e-34a291a19352"
      },
      "source": [
        "a =10\n",
        "b =20\n",
        "c = a+b\n",
        "print(\"sum of two numbers =\",c)"
      ],
      "execution_count": 14,
      "outputs": [
        {
          "output_type": "stream",
          "text": [
            "sum of two numbers = 30\n"
          ],
          "name": "stdout"
        }
      ]
    }
  ]
}